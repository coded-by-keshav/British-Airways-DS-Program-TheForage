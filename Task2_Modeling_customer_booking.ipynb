{
 "cells": [
  {
   "cell_type": "markdown",
   "metadata": {},
   "source": [
    "# Task 2\n",
    "\n",
    "---\n",
    "\n",
    "## Predictive modeling of customer bookings\n",
    "\n",
    "This Jupyter notebook includes some code to get you started with this predictive modeling task. We will use various packages for data manipulation, feature engineering and machine learning.\n",
    "\n",
    "### Exploratory data analysis\n",
    "\n",
    "First, we must explore the data in order to better understand what we have and the statistical properties of the dataset."
   ]
  },
  {
   "cell_type": "code",
   "execution_count": 1,
   "metadata": {},
   "outputs": [],
   "source": [
    "import pandas as pd"
   ]
  },
  {
   "cell_type": "code",
   "execution_count": 2,
   "metadata": {},
   "outputs": [
    {
     "data": {
      "text/html": [
       "<div>\n",
       "<style scoped>\n",
       "    .dataframe tbody tr th:only-of-type {\n",
       "        vertical-align: middle;\n",
       "    }\n",
       "\n",
       "    .dataframe tbody tr th {\n",
       "        vertical-align: top;\n",
       "    }\n",
       "\n",
       "    .dataframe thead th {\n",
       "        text-align: right;\n",
       "    }\n",
       "</style>\n",
       "<table border=\"1\" class=\"dataframe\">\n",
       "  <thead>\n",
       "    <tr style=\"text-align: right;\">\n",
       "      <th></th>\n",
       "      <th>num_passengers</th>\n",
       "      <th>sales_channel</th>\n",
       "      <th>trip_type</th>\n",
       "      <th>purchase_lead</th>\n",
       "      <th>length_of_stay</th>\n",
       "      <th>flight_hour</th>\n",
       "      <th>flight_day</th>\n",
       "      <th>route</th>\n",
       "      <th>booking_origin</th>\n",
       "      <th>wants_extra_baggage</th>\n",
       "      <th>wants_preferred_seat</th>\n",
       "      <th>wants_in_flight_meals</th>\n",
       "      <th>flight_duration</th>\n",
       "      <th>booking_complete</th>\n",
       "    </tr>\n",
       "  </thead>\n",
       "  <tbody>\n",
       "    <tr>\n",
       "      <th>0</th>\n",
       "      <td>2</td>\n",
       "      <td>Internet</td>\n",
       "      <td>RoundTrip</td>\n",
       "      <td>262</td>\n",
       "      <td>19</td>\n",
       "      <td>7</td>\n",
       "      <td>Sat</td>\n",
       "      <td>AKLDEL</td>\n",
       "      <td>New Zealand</td>\n",
       "      <td>1</td>\n",
       "      <td>0</td>\n",
       "      <td>0</td>\n",
       "      <td>5.52</td>\n",
       "      <td>0</td>\n",
       "    </tr>\n",
       "    <tr>\n",
       "      <th>1</th>\n",
       "      <td>1</td>\n",
       "      <td>Internet</td>\n",
       "      <td>RoundTrip</td>\n",
       "      <td>112</td>\n",
       "      <td>20</td>\n",
       "      <td>3</td>\n",
       "      <td>Sat</td>\n",
       "      <td>AKLDEL</td>\n",
       "      <td>New Zealand</td>\n",
       "      <td>0</td>\n",
       "      <td>0</td>\n",
       "      <td>0</td>\n",
       "      <td>5.52</td>\n",
       "      <td>0</td>\n",
       "    </tr>\n",
       "    <tr>\n",
       "      <th>2</th>\n",
       "      <td>2</td>\n",
       "      <td>Internet</td>\n",
       "      <td>RoundTrip</td>\n",
       "      <td>243</td>\n",
       "      <td>22</td>\n",
       "      <td>17</td>\n",
       "      <td>Wed</td>\n",
       "      <td>AKLDEL</td>\n",
       "      <td>India</td>\n",
       "      <td>1</td>\n",
       "      <td>1</td>\n",
       "      <td>0</td>\n",
       "      <td>5.52</td>\n",
       "      <td>0</td>\n",
       "    </tr>\n",
       "    <tr>\n",
       "      <th>3</th>\n",
       "      <td>1</td>\n",
       "      <td>Internet</td>\n",
       "      <td>RoundTrip</td>\n",
       "      <td>96</td>\n",
       "      <td>31</td>\n",
       "      <td>4</td>\n",
       "      <td>Sat</td>\n",
       "      <td>AKLDEL</td>\n",
       "      <td>New Zealand</td>\n",
       "      <td>0</td>\n",
       "      <td>0</td>\n",
       "      <td>1</td>\n",
       "      <td>5.52</td>\n",
       "      <td>0</td>\n",
       "    </tr>\n",
       "    <tr>\n",
       "      <th>4</th>\n",
       "      <td>2</td>\n",
       "      <td>Internet</td>\n",
       "      <td>RoundTrip</td>\n",
       "      <td>68</td>\n",
       "      <td>22</td>\n",
       "      <td>15</td>\n",
       "      <td>Wed</td>\n",
       "      <td>AKLDEL</td>\n",
       "      <td>India</td>\n",
       "      <td>1</td>\n",
       "      <td>0</td>\n",
       "      <td>1</td>\n",
       "      <td>5.52</td>\n",
       "      <td>0</td>\n",
       "    </tr>\n",
       "  </tbody>\n",
       "</table>\n",
       "</div>"
      ],
      "text/plain": [
       "   num_passengers sales_channel  trip_type  purchase_lead  length_of_stay  \\\n",
       "0               2      Internet  RoundTrip            262              19   \n",
       "1               1      Internet  RoundTrip            112              20   \n",
       "2               2      Internet  RoundTrip            243              22   \n",
       "3               1      Internet  RoundTrip             96              31   \n",
       "4               2      Internet  RoundTrip             68              22   \n",
       "\n",
       "   flight_hour flight_day   route booking_origin  wants_extra_baggage  \\\n",
       "0            7        Sat  AKLDEL    New Zealand                    1   \n",
       "1            3        Sat  AKLDEL    New Zealand                    0   \n",
       "2           17        Wed  AKLDEL          India                    1   \n",
       "3            4        Sat  AKLDEL    New Zealand                    0   \n",
       "4           15        Wed  AKLDEL          India                    1   \n",
       "\n",
       "   wants_preferred_seat  wants_in_flight_meals  flight_duration  \\\n",
       "0                     0                      0             5.52   \n",
       "1                     0                      0             5.52   \n",
       "2                     1                      0             5.52   \n",
       "3                     0                      1             5.52   \n",
       "4                     0                      1             5.52   \n",
       "\n",
       "   booking_complete  \n",
       "0                 0  \n",
       "1                 0  \n",
       "2                 0  \n",
       "3                 0  \n",
       "4                 0  "
      ]
     },
     "execution_count": 2,
     "metadata": {},
     "output_type": "execute_result"
    }
   ],
   "source": [
    "df = pd.read_csv(\"data/customer_booking.csv\", encoding=\"ISO-8859-1\")\n",
    "df.head()"
   ]
  },
  {
   "cell_type": "markdown",
   "metadata": {},
   "source": [
    "The `.head()` method allows us to view the first 5 rows in the dataset, this is useful for visual inspection of our columns"
   ]
  },
  {
   "cell_type": "code",
   "execution_count": 3,
   "metadata": {},
   "outputs": [
    {
     "name": "stdout",
     "output_type": "stream",
     "text": [
      "<class 'pandas.core.frame.DataFrame'>\n",
      "RangeIndex: 50000 entries, 0 to 49999\n",
      "Data columns (total 14 columns):\n",
      " #   Column                 Non-Null Count  Dtype  \n",
      "---  ------                 --------------  -----  \n",
      " 0   num_passengers         50000 non-null  int64  \n",
      " 1   sales_channel          50000 non-null  object \n",
      " 2   trip_type              50000 non-null  object \n",
      " 3   purchase_lead          50000 non-null  int64  \n",
      " 4   length_of_stay         50000 non-null  int64  \n",
      " 5   flight_hour            50000 non-null  int64  \n",
      " 6   flight_day             50000 non-null  object \n",
      " 7   route                  50000 non-null  object \n",
      " 8   booking_origin         50000 non-null  object \n",
      " 9   wants_extra_baggage    50000 non-null  int64  \n",
      " 10  wants_preferred_seat   50000 non-null  int64  \n",
      " 11  wants_in_flight_meals  50000 non-null  int64  \n",
      " 12  flight_duration        50000 non-null  float64\n",
      " 13  booking_complete       50000 non-null  int64  \n",
      "dtypes: float64(1), int64(8), object(5)\n",
      "memory usage: 5.3+ MB\n"
     ]
    }
   ],
   "source": [
    "df.info()"
   ]
  },
  {
   "cell_type": "markdown",
   "metadata": {},
   "source": [
    "The `.info()` method gives us a data description, telling us the names of the columns, their data types and how many null values we have. Fortunately, we have no null values. It looks like some of these columns should be converted into different data types, e.g. flight_day.\n",
    "\n",
    "To provide more context, below is a more detailed data description, explaining exactly what each column means:\n",
    "\n",
    "- `num_passengers` = number of passengers travelling\n",
    "- `sales_channel` = sales channel booking was made on\n",
    "- `trip_type` = trip Type (Round Trip, One Way, Circle Trip)\n",
    "- `purchase_lead` = number of days between travel date and booking date\n",
    "- `length_of_stay` = number of days spent at destination\n",
    "- `flight_hour` = hour of flight departure\n",
    "- `flight_day` = day of week of flight departure\n",
    "- `route` = origin -> destination flight route\n",
    "- `booking_origin` = country from where booking was made\n",
    "- `wants_extra_baggage` = if the customer wanted extra baggage in the booking\n",
    "- `wants_preferred_seat` = if the customer wanted a preferred seat in the booking\n",
    "- `wants_in_flight_meals` = if the customer wanted in-flight meals in the booking\n",
    "- `flight_duration` = total duration of flight (in hours)\n",
    "- `booking_complete` = flag indicating if the customer completed the booking\n",
    "\n",
    "Before we compute any statistics on the data, lets do any necessary data conversion"
   ]
  },
  {
   "cell_type": "code",
   "execution_count": 4,
   "metadata": {},
   "outputs": [
    {
     "data": {
      "text/plain": [
       "array(['Sat', 'Wed', 'Thu', 'Mon', 'Sun', 'Tue', 'Fri'], dtype=object)"
      ]
     },
     "execution_count": 4,
     "metadata": {},
     "output_type": "execute_result"
    }
   ],
   "source": [
    "df[\"flight_day\"].unique()"
   ]
  },
  {
   "cell_type": "code",
   "execution_count": 5,
   "metadata": {},
   "outputs": [],
   "source": [
    "mapping = {\n",
    "    \"Mon\": 1,\n",
    "    \"Tue\": 2,\n",
    "    \"Wed\": 3,\n",
    "    \"Thu\": 4,\n",
    "    \"Fri\": 5,\n",
    "    \"Sat\": 6,\n",
    "    \"Sun\": 7,\n",
    "}\n",
    "\n",
    "df[\"flight_day\"] = df[\"flight_day\"].map(mapping)"
   ]
  },
  {
   "cell_type": "code",
   "execution_count": 6,
   "metadata": {},
   "outputs": [
    {
     "data": {
      "text/plain": [
       "array([6, 3, 4, 1, 7, 2, 5], dtype=int64)"
      ]
     },
     "execution_count": 6,
     "metadata": {},
     "output_type": "execute_result"
    }
   ],
   "source": [
    "df[\"flight_day\"].unique()"
   ]
  },
  {
   "cell_type": "code",
   "execution_count": 7,
   "metadata": {},
   "outputs": [
    {
     "data": {
      "text/html": [
       "<div>\n",
       "<style scoped>\n",
       "    .dataframe tbody tr th:only-of-type {\n",
       "        vertical-align: middle;\n",
       "    }\n",
       "\n",
       "    .dataframe tbody tr th {\n",
       "        vertical-align: top;\n",
       "    }\n",
       "\n",
       "    .dataframe thead th {\n",
       "        text-align: right;\n",
       "    }\n",
       "</style>\n",
       "<table border=\"1\" class=\"dataframe\">\n",
       "  <thead>\n",
       "    <tr style=\"text-align: right;\">\n",
       "      <th></th>\n",
       "      <th>num_passengers</th>\n",
       "      <th>purchase_lead</th>\n",
       "      <th>length_of_stay</th>\n",
       "      <th>flight_hour</th>\n",
       "      <th>flight_day</th>\n",
       "      <th>wants_extra_baggage</th>\n",
       "      <th>wants_preferred_seat</th>\n",
       "      <th>wants_in_flight_meals</th>\n",
       "      <th>flight_duration</th>\n",
       "      <th>booking_complete</th>\n",
       "    </tr>\n",
       "  </thead>\n",
       "  <tbody>\n",
       "    <tr>\n",
       "      <th>count</th>\n",
       "      <td>50000.000000</td>\n",
       "      <td>50000.000000</td>\n",
       "      <td>50000.00000</td>\n",
       "      <td>50000.00000</td>\n",
       "      <td>50000.000000</td>\n",
       "      <td>50000.000000</td>\n",
       "      <td>50000.000000</td>\n",
       "      <td>50000.000000</td>\n",
       "      <td>50000.000000</td>\n",
       "      <td>50000.000000</td>\n",
       "    </tr>\n",
       "    <tr>\n",
       "      <th>mean</th>\n",
       "      <td>1.591240</td>\n",
       "      <td>84.940480</td>\n",
       "      <td>23.04456</td>\n",
       "      <td>9.06634</td>\n",
       "      <td>3.814420</td>\n",
       "      <td>0.668780</td>\n",
       "      <td>0.296960</td>\n",
       "      <td>0.427140</td>\n",
       "      <td>7.277561</td>\n",
       "      <td>0.149560</td>\n",
       "    </tr>\n",
       "    <tr>\n",
       "      <th>std</th>\n",
       "      <td>1.020165</td>\n",
       "      <td>90.451378</td>\n",
       "      <td>33.88767</td>\n",
       "      <td>5.41266</td>\n",
       "      <td>1.992792</td>\n",
       "      <td>0.470657</td>\n",
       "      <td>0.456923</td>\n",
       "      <td>0.494668</td>\n",
       "      <td>1.496863</td>\n",
       "      <td>0.356643</td>\n",
       "    </tr>\n",
       "    <tr>\n",
       "      <th>min</th>\n",
       "      <td>1.000000</td>\n",
       "      <td>0.000000</td>\n",
       "      <td>0.00000</td>\n",
       "      <td>0.00000</td>\n",
       "      <td>1.000000</td>\n",
       "      <td>0.000000</td>\n",
       "      <td>0.000000</td>\n",
       "      <td>0.000000</td>\n",
       "      <td>4.670000</td>\n",
       "      <td>0.000000</td>\n",
       "    </tr>\n",
       "    <tr>\n",
       "      <th>25%</th>\n",
       "      <td>1.000000</td>\n",
       "      <td>21.000000</td>\n",
       "      <td>5.00000</td>\n",
       "      <td>5.00000</td>\n",
       "      <td>2.000000</td>\n",
       "      <td>0.000000</td>\n",
       "      <td>0.000000</td>\n",
       "      <td>0.000000</td>\n",
       "      <td>5.620000</td>\n",
       "      <td>0.000000</td>\n",
       "    </tr>\n",
       "    <tr>\n",
       "      <th>50%</th>\n",
       "      <td>1.000000</td>\n",
       "      <td>51.000000</td>\n",
       "      <td>17.00000</td>\n",
       "      <td>9.00000</td>\n",
       "      <td>4.000000</td>\n",
       "      <td>1.000000</td>\n",
       "      <td>0.000000</td>\n",
       "      <td>0.000000</td>\n",
       "      <td>7.570000</td>\n",
       "      <td>0.000000</td>\n",
       "    </tr>\n",
       "    <tr>\n",
       "      <th>75%</th>\n",
       "      <td>2.000000</td>\n",
       "      <td>115.000000</td>\n",
       "      <td>28.00000</td>\n",
       "      <td>13.00000</td>\n",
       "      <td>5.000000</td>\n",
       "      <td>1.000000</td>\n",
       "      <td>1.000000</td>\n",
       "      <td>1.000000</td>\n",
       "      <td>8.830000</td>\n",
       "      <td>0.000000</td>\n",
       "    </tr>\n",
       "    <tr>\n",
       "      <th>max</th>\n",
       "      <td>9.000000</td>\n",
       "      <td>867.000000</td>\n",
       "      <td>778.00000</td>\n",
       "      <td>23.00000</td>\n",
       "      <td>7.000000</td>\n",
       "      <td>1.000000</td>\n",
       "      <td>1.000000</td>\n",
       "      <td>1.000000</td>\n",
       "      <td>9.500000</td>\n",
       "      <td>1.000000</td>\n",
       "    </tr>\n",
       "  </tbody>\n",
       "</table>\n",
       "</div>"
      ],
      "text/plain": [
       "       num_passengers  purchase_lead  length_of_stay  flight_hour  \\\n",
       "count    50000.000000   50000.000000     50000.00000  50000.00000   \n",
       "mean         1.591240      84.940480        23.04456      9.06634   \n",
       "std          1.020165      90.451378        33.88767      5.41266   \n",
       "min          1.000000       0.000000         0.00000      0.00000   \n",
       "25%          1.000000      21.000000         5.00000      5.00000   \n",
       "50%          1.000000      51.000000        17.00000      9.00000   \n",
       "75%          2.000000     115.000000        28.00000     13.00000   \n",
       "max          9.000000     867.000000       778.00000     23.00000   \n",
       "\n",
       "         flight_day  wants_extra_baggage  wants_preferred_seat  \\\n",
       "count  50000.000000         50000.000000          50000.000000   \n",
       "mean       3.814420             0.668780              0.296960   \n",
       "std        1.992792             0.470657              0.456923   \n",
       "min        1.000000             0.000000              0.000000   \n",
       "25%        2.000000             0.000000              0.000000   \n",
       "50%        4.000000             1.000000              0.000000   \n",
       "75%        5.000000             1.000000              1.000000   \n",
       "max        7.000000             1.000000              1.000000   \n",
       "\n",
       "       wants_in_flight_meals  flight_duration  booking_complete  \n",
       "count           50000.000000     50000.000000      50000.000000  \n",
       "mean                0.427140         7.277561          0.149560  \n",
       "std                 0.494668         1.496863          0.356643  \n",
       "min                 0.000000         4.670000          0.000000  \n",
       "25%                 0.000000         5.620000          0.000000  \n",
       "50%                 0.000000         7.570000          0.000000  \n",
       "75%                 1.000000         8.830000          0.000000  \n",
       "max                 1.000000         9.500000          1.000000  "
      ]
     },
     "execution_count": 7,
     "metadata": {},
     "output_type": "execute_result"
    }
   ],
   "source": [
    "df.describe()"
   ]
  },
  {
   "cell_type": "markdown",
   "metadata": {},
   "source": [
    "The `.describe()` method gives us a summary of descriptive statistics over the entire dataset (only works for numeric columns). This gives us a quick overview of a few things such as the mean, min, max and overall distribution of each column.\n",
    "\n",
    "From this point, you should continue exploring the dataset with some visualisations and other metrics that you think may be useful. Then, you should prepare your dataset for predictive modelling. Finally, you should train your machine learning model, evaluate it with performance metrics and output visualisations for the contributing variables. All of this analysis should be summarised in your single slide."
   ]
  },
  {
   "cell_type": "markdown",
   "metadata": {},
   "source": [
    "# Feature Engineering"
   ]
  },
  {
   "cell_type": "code",
   "execution_count": 36,
   "metadata": {},
   "outputs": [],
   "source": [
    "import numpy as np\n",
    "import pandas as pd\n",
    "import matplotlib.pyplot as plt"
   ]
  },
  {
   "cell_type": "code",
   "execution_count": 17,
   "metadata": {},
   "outputs": [],
   "source": [
    "X = df.drop(columns=['booking_complete'], axis=1)\n",
    "y = df.booking_complete\n",
    "\n",
    "#changing object dtype to int dtype\n",
    "for colname in X.select_dtypes(\"object\"):\n",
    "    X[colname], _ = X[colname].factorize()"
   ]
  },
  {
   "cell_type": "code",
   "execution_count": 19,
   "metadata": {},
   "outputs": [
    {
     "data": {
      "text/plain": [
       "route                    0.053788\n",
       "booking_origin           0.046330\n",
       "flight_duration          0.015916\n",
       "wants_extra_baggage      0.010404\n",
       "length_of_stay           0.009379\n",
       "num_passengers           0.002828\n",
       "wants_preferred_seat     0.002706\n",
       "purchase_lead            0.001955\n",
       "wants_in_flight_meals    0.001715\n",
       "sales_channel            0.001232\n",
       "flight_day               0.000323\n",
       "trip_type                0.000085\n",
       "flight_hour              0.000000\n",
       "Name: MI scores, dtype: float64"
      ]
     },
     "execution_count": 19,
     "metadata": {},
     "output_type": "execute_result"
    }
   ],
   "source": [
    "from sklearn.feature_selection import mutual_info_classif\n",
    "\n",
    "mi_scores = mutual_info_classif(X,y)\n",
    "mi_scores = pd.Series(mi_scores, name = \"MI scores\", index=X.columns)\n",
    "mi_scores = mi_scores.sort_values(ascending=False)\n",
    "\n",
    "mi_scores"
   ]
  },
  {
   "cell_type": "code",
   "execution_count": 28,
   "metadata": {},
   "outputs": [
    {
     "data": {
      "image/png": "[encoded data removed]",
      "text/plain": [
       "<Figure size 800x500 with 1 Axes>"
      ]
     },
     "metadata": {},
     "output_type": "display_data"
    }
   ],
   "source": [
    "import numpy as np\n",
    "\n",
    "def plot_mi_scores(scores):\n",
    "    scores = scores.sort_values(ascending=True)\n",
    "    width = np.arange(len(scores))\n",
    "    ticks = list(scores.index)\n",
    "    plt.barh(width, scores)\n",
    "    plt.yticks(width, ticks)\n",
    "    plt.title(\"Mutual Information Scores\")\n",
    "\n",
    "\n",
    "plt.figure(dpi=100, figsize=(8, 5))\n",
    "plot_mi_scores(mi_scores)"
   ]
  },
  {
   "cell_type": "markdown",
   "metadata": {},
   "source": [
    "As we can see top 5 are most important features of the data:\n",
    "1. route\n",
    "2. booking_origin\n",
    "3. flight_duration\n",
    "4. wants_extra_baggage\n",
    "5. length_of_stay\n",
    "\n",
    "These features are sufficient to predict booking status of new user as booking_complete is mostly dependent on these"
   ]
  },
  {
   "cell_type": "markdown",
   "metadata": {},
   "source": [
    "Spliting data into train, test and validation set"
   ]
  },
  {
   "cell_type": "code",
   "execution_count": 35,
   "metadata": {},
   "outputs": [
    {
     "data": {
      "text/html": [
       "<div>\n",
       "<style scoped>\n",
       "    .dataframe tbody tr th:only-of-type {\n",
       "        vertical-align: middle;\n",
       "    }\n",
       "\n",
       "    .dataframe tbody tr th {\n",
       "        vertical-align: top;\n",
       "    }\n",
       "\n",
       "    .dataframe thead th {\n",
       "        text-align: right;\n",
       "    }\n",
       "</style>\n",
       "<table border=\"1\" class=\"dataframe\">\n",
       "  <thead>\n",
       "    <tr style=\"text-align: right;\">\n",
       "      <th></th>\n",
       "      <th>route</th>\n",
       "      <th>booking_origin</th>\n",
       "      <th>flight_duration</th>\n",
       "      <th>wants_extra_baggage</th>\n",
       "      <th>length_of_stay</th>\n",
       "    </tr>\n",
       "  </thead>\n",
       "  <tbody>\n",
       "    <tr>\n",
       "      <th>0</th>\n",
       "      <td>AKLDEL</td>\n",
       "      <td>New Zealand</td>\n",
       "      <td>5.52</td>\n",
       "      <td>1</td>\n",
       "      <td>19</td>\n",
       "    </tr>\n",
       "    <tr>\n",
       "      <th>1</th>\n",
       "      <td>AKLDEL</td>\n",
       "      <td>New Zealand</td>\n",
       "      <td>5.52</td>\n",
       "      <td>0</td>\n",
       "      <td>20</td>\n",
       "    </tr>\n",
       "    <tr>\n",
       "      <th>2</th>\n",
       "      <td>AKLDEL</td>\n",
       "      <td>India</td>\n",
       "      <td>5.52</td>\n",
       "      <td>1</td>\n",
       "      <td>22</td>\n",
       "    </tr>\n",
       "    <tr>\n",
       "      <th>3</th>\n",
       "      <td>AKLDEL</td>\n",
       "      <td>New Zealand</td>\n",
       "      <td>5.52</td>\n",
       "      <td>0</td>\n",
       "      <td>31</td>\n",
       "    </tr>\n",
       "    <tr>\n",
       "      <th>4</th>\n",
       "      <td>AKLDEL</td>\n",
       "      <td>India</td>\n",
       "      <td>5.52</td>\n",
       "      <td>1</td>\n",
       "      <td>22</td>\n",
       "    </tr>\n",
       "    <tr>\n",
       "      <th>...</th>\n",
       "      <td>...</td>\n",
       "      <td>...</td>\n",
       "      <td>...</td>\n",
       "      <td>...</td>\n",
       "      <td>...</td>\n",
       "    </tr>\n",
       "    <tr>\n",
       "      <th>49995</th>\n",
       "      <td>PERPNH</td>\n",
       "      <td>Australia</td>\n",
       "      <td>5.62</td>\n",
       "      <td>1</td>\n",
       "      <td>6</td>\n",
       "    </tr>\n",
       "    <tr>\n",
       "      <th>49996</th>\n",
       "      <td>PERPNH</td>\n",
       "      <td>Australia</td>\n",
       "      <td>5.62</td>\n",
       "      <td>0</td>\n",
       "      <td>6</td>\n",
       "    </tr>\n",
       "    <tr>\n",
       "      <th>49997</th>\n",
       "      <td>PERPNH</td>\n",
       "      <td>Australia</td>\n",
       "      <td>5.62</td>\n",
       "      <td>0</td>\n",
       "      <td>6</td>\n",
       "    </tr>\n",
       "    <tr>\n",
       "      <th>49998</th>\n",
       "      <td>PERPNH</td>\n",
       "      <td>Australia</td>\n",
       "      <td>5.62</td>\n",
       "      <td>1</td>\n",
       "      <td>6</td>\n",
       "    </tr>\n",
       "    <tr>\n",
       "      <th>49999</th>\n",
       "      <td>PERPNH</td>\n",
       "      <td>Australia</td>\n",
       "      <td>5.62</td>\n",
       "      <td>0</td>\n",
       "      <td>6</td>\n",
       "    </tr>\n",
       "  </tbody>\n",
       "</table>\n",
       "<p>50000 rows × 5 columns</p>\n",
       "</div>"
      ],
      "text/plain": [
       "        route booking_origin  flight_duration  wants_extra_baggage  \\\n",
       "0      AKLDEL    New Zealand             5.52                    1   \n",
       "1      AKLDEL    New Zealand             5.52                    0   \n",
       "2      AKLDEL          India             5.52                    1   \n",
       "3      AKLDEL    New Zealand             5.52                    0   \n",
       "4      AKLDEL          India             5.52                    1   \n",
       "...       ...            ...              ...                  ...   \n",
       "49995  PERPNH      Australia             5.62                    1   \n",
       "49996  PERPNH      Australia             5.62                    0   \n",
       "49997  PERPNH      Australia             5.62                    0   \n",
       "49998  PERPNH      Australia             5.62                    1   \n",
       "49999  PERPNH      Australia             5.62                    0   \n",
       "\n",
       "       length_of_stay  \n",
       "0                  19  \n",
       "1                  20  \n",
       "2                  22  \n",
       "3                  31  \n",
       "4                  22  \n",
       "...               ...  \n",
       "49995               6  \n",
       "49996               6  \n",
       "49997               6  \n",
       "49998               6  \n",
       "49999               6  \n",
       "\n",
       "[50000 rows x 5 columns]"
      ]
     },
     "execution_count": 35,
     "metadata": {},
     "output_type": "execute_result"
    }
   ],
   "source": [
    "df[['route', 'booking_origin', 'flight_duration', 'wants_extra_baggage', 'length_of_stay']]"
   ]
  },
  {
   "cell_type": "code",
   "execution_count": null,
   "metadata": {},
   "outputs": [],
   "source": [
    "\n",
    "\n",
    "X_train, X_test, y_train, y_test = train_test_split(X, y, test_size=0.2, random_state)"
   ]
  },
  {
   "cell_type": "markdown",
   "metadata": {},
   "source": [
    "# Model 1: Random forest classifier with top 6 features"
   ]
  },
  {
   "cell_type": "code",
   "execution_count": 55,
   "metadata": {},
   "outputs": [
    {
     "name": "stdout",
     "output_type": "stream",
     "text": [
      "ACCURACY:  81.86\n",
      "AUC score:  0.5008965668320731\n"
     ]
    }
   ],
   "source": [
    "from sklearn.metrics import accuracy_score, roc_auc_score\n",
    "from sklearn.ensemble import RandomForestClassifier\n",
    "from sklearn.preprocessing import MinMaxScaler\n",
    "from sklearn.model_selection import train_test_split\n",
    "\n",
    "features = ['route', 'booking_origin', 'flight_duration', 'wants_extra_baggage', 'length_of_stay', 'num_passengers']\n",
    "X = df[features]\n",
    "\n",
    "# one-hot encoding\n",
    "X = pd.get_dummies(X, columns=features)\n",
    "\n",
    "# Min max scaling\n",
    "scaler = MinMaxScaler()\n",
    "scaler.fit(X)\n",
    "\n",
    "y = df['booking_complete']\n",
    "\n",
    "# spliting data into train and test data\n",
    "X_train, X_test, y_train, y_test = train_test_split(X, y, test_size=0.2)\n",
    "\n",
    "forest_model = RandomForestClassifier()\n",
    "forest_model.fit(X_train, y_train)\n",
    "y_pred = forest_model.predict(X_test)\n",
    "\n",
    "print('ACCURACY: ',accuracy_score(y_test,pred)*100)\n",
    "print('AUC score: ',roc_auc_score(y_test,pred))"
   ]
  },
  {
   "cell_type": "markdown",
   "metadata": {},
   "source": [
    "# Model 2: Gradient boosting with top 6 features"
   ]
  },
  {
   "cell_type": "code",
   "execution_count": 56,
   "metadata": {},
   "outputs": [
    {
     "name": "stdout",
     "output_type": "stream",
     "text": [
      "ACCURACY:  84.61999999999999\n",
      "AUC score:  0.5076088187224322\n"
     ]
    }
   ],
   "source": [
    "from sklearn.ensemble import GradientBoostingClassifier\n",
    "from sklearn.metrics import accuracy_score, roc_auc_score\n",
    "\n",
    "gb = GradientBoostingClassifier()\n",
    "\n",
    "gb_model = gb.fit(X_train, y_train)\n",
    "y_pred = gb_model.predict(X_test)\n",
    "\n",
    "print('ACCURACY: ',accuracy_score(y_test,y_pred)*100)\n",
    "print('AUC score: ',roc_auc_score(y_test,y_pred))"
   ]
  },
  {
   "cell_type": "markdown",
   "metadata": {},
   "source": [
    "# Model 3: Random forest classifier with all features"
   ]
  },
  {
   "cell_type": "code",
   "execution_count": 57,
   "metadata": {},
   "outputs": [
    {
     "name": "stdout",
     "output_type": "stream",
     "text": [
      "ACCURACY:  85.22999999999999\n",
      "AUC score:  0.561470588235294\n"
     ]
    }
   ],
   "source": [
    "from sklearn.metrics import accuracy_score, roc_auc_score\n",
    "from sklearn.ensemble import RandomForestClassifier\n",
    "from sklearn.preprocessing import MinMaxScaler\n",
    "from sklearn.model_selection import train_test_split\n",
    "\n",
    "X = df.drop(columns=['booking_complete'])\n",
    "\n",
    "# one-hot encoding\n",
    "X = pd.get_dummies(X)\n",
    "\n",
    "# Min max scaling\n",
    "scaler = MinMaxScaler()\n",
    "scaler.fit(X)\n",
    "\n",
    "y = df['booking_complete']\n",
    "\n",
    "# spliting data into train and test data\n",
    "X_train, X_test, y_train, y_test = train_test_split(X, y, test_size=0.2)\n",
    "\n",
    "forest_model = RandomForestClassifier()\n",
    "forest_model.fit(X_train, y_train)\n",
    "pred = forest_model.predict(X_test)\n",
    "\n",
    "print('ACCURACY: ',accuracy_score(y_test,pred)*100)\n",
    "print('AUC score: ',roc_auc_score(y_test,pred))"
   ]
  },
  {
   "cell_type": "markdown",
   "metadata": {},
   "source": [
    "# Model 4: Gradient boosting with all features"
   ]
  },
  {
   "cell_type": "code",
   "execution_count": 58,
   "metadata": {},
   "outputs": [
    {
     "name": "stdout",
     "output_type": "stream",
     "text": [
      "ACCURACY:  85.28999999999999\n",
      "AUC score:  0.5162549019607844\n"
     ]
    }
   ],
   "source": [
    "from sklearn.ensemble import GradientBoostingClassifier\n",
    "from sklearn.metrics import accuracy_score, roc_auc_score\n",
    "\n",
    "gb = GradientBoostingClassifier()\n",
    "\n",
    "gb_model = gb.fit(X_train, y_train)\n",
    "y_pred = gb_model.predict(X_test)\n",
    "\n",
    "print('ACCURACY: ',accuracy_score(y_test,y_pred)*100)\n",
    "print('AUC score: ',roc_auc_score(y_test,y_pred))"
   ]
  },
  {
   "cell_type": "markdown",
   "metadata": {},
   "source": [
    "On comparing ACCURACY of above models, Gradient boosting with all features is the best model."
   ]
  }
 ],
 "metadata": {
  "kernelspec": {
   "display_name": "Python 3.9.13 ('venv': venv)",
   "language": "python",
   "name": "python3"
  },
  "language_info": {
   "codemirror_mode": {
    "name": "ipython",
    "version": 3
   },
   "file_extension": ".py",
   "mimetype": "text/x-python",
   "name": "python",
   "nbconvert_exporter": "python",
   "pygments_lexer": "ipython3",
   "version": "3.11.3"
  },
  "orig_nbformat": 4,
  "vscode": {
   "interpreter": {
    "hash": "4f7924c4c56b083e0e50eadfe7ef592a7a8ef70df33a0047f82280e6be1afe15"
   }
  }
 },
 "nbformat": 4,
 "nbformat_minor": 2
}
